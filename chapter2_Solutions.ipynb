{
 "cells": [
  {
   "cell_type": "markdown",
   "metadata": {},
   "source": [
    "## Chapter 1"
   ]
  },
  {
   "cell_type": "markdown",
   "metadata": {},
   "source": [
    "### 1.Write a Python program to add two numbers"
   ]
  },
  {
   "cell_type": "code",
   "execution_count": null,
   "metadata": {},
   "outputs": [],
   "source": [
    "# Assign the first number to a variable\n",
    "num1 = 10\n",
    "\n",
    "# Assign the second number to a variable\n",
    "num2 = 20\n",
    "\n",
    "# Add the two numbers and store the result in a variable\n",
    "sum = num1 + num2\n",
    "\n",
    "# Print the sum\n",
    "print(\"The sum of\", num1, \"and\", num2, \"is\", sum)\n"
   ]
  },
  {
   "cell_type": "markdown",
   "metadata": {},
   "source": [
    "### 2.Write a Python program to find remainder when a numbre is divided by 2"
   ]
  },
  {
   "cell_type": "code",
   "execution_count": null,
   "metadata": {},
   "outputs": [],
   "source": [
    "# Assign the number to a variable\n",
    "number = 15\n",
    "\n",
    "# Calculate the remainder when the number is divided by 2\n",
    "remainder = number % 2\n",
    "\n",
    "# Print the remainder\n",
    "print(\"The remainder when\", number, \"is divided by 2 is\", remainder)\n"
   ]
  },
  {
   "cell_type": "markdown",
   "metadata": {},
   "source": [
    "### 3.Check the type of Variable assigned using input() function."
   ]
  },
  {
   "cell_type": "code",
   "execution_count": null,
   "metadata": {},
   "outputs": [],
   "source": [
    "# Prompt the user to enter a value and assign it to a variable\n",
    "user_input = input(\"Enter a value: \")\n",
    "\n",
    "# Check the type of the variable\n",
    "variable_type = type(user_input)\n",
    "\n",
    "# Print the type of the variable\n",
    "print(\"The type of the variable is:\", variable_type)\n"
   ]
  },
  {
   "cell_type": "markdown",
   "metadata": {},
   "source": [
    "### 4.Use comparison operators to find out weather a given variable 'a' is greater than 'b' or not\n",
    "```Take a=34 and b=80```"
   ]
  },
  {
   "cell_type": "code",
   "execution_count": 2,
   "metadata": {},
   "outputs": [
    {
     "name": "stdout",
     "output_type": "stream",
     "text": [
      "Is 'a' greater than 'b'? False\n"
     ]
    }
   ],
   "source": [
    "# Assign values to variables 'a' and 'b'\n",
    "a = 34\n",
    "b = 80\n",
    "\n",
    "# Compare if 'a' is greater than 'b'\n",
    "is_greater = a > b\n",
    "\n",
    "# Print the result\n",
    "print(\"Is 'a' greater than 'b'?\", is_greater)\n",
    "\n",
    "# Print the greater number\n",
    "if is_greater:\n",
    "    print(\"The greater number is:\", a)\n",
    "else:\n",
    "    print(\"The greater number is:\", b)\n"
   ]
  },
  {
   "cell_type": "markdown",
   "metadata": {},
   "source": [
    "### 5.Write a program to find average of two numbers entered by the user"
   ]
  },
  {
   "cell_type": "code",
   "execution_count": null,
   "metadata": {},
   "outputs": [],
   "source": [
    "# Prompt the user to enter the first number and assign it to a variable\n",
    "num1 = float(input(\"Enter the first number: \"))\n",
    "\n",
    "# Prompt the user to enter the second number and assign it to a variable\n",
    "num2 = float(input(\"Enter the second number: \"))\n",
    "\n",
    "# Calculate the average of the two numbers\n",
    "average = (num1 + num2) / 2\n",
    "\n",
    "# Print the average\n",
    "print(\"The average of\", num1, \"and\", num2, \"is\", average)\n"
   ]
  },
  {
   "cell_type": "markdown",
   "metadata": {},
   "source": [
    "### 6.Write a python program to calculate the square a number entered by the user."
   ]
  },
  {
   "cell_type": "code",
   "execution_count": null,
   "metadata": {},
   "outputs": [],
   "source": [
    "# Prompt the user to enter a number and assign it to a variable\n",
    "number = float(input(\"Enter a number: \"))\n",
    "\n",
    "# Calculate the square of the number\n",
    "square = number ** 2\n",
    "\n",
    "# Print the square of the number\n",
    "print(\"The square of\", number, \"is\", square)\n"
   ]
  },
  {
   "cell_type": "markdown",
   "metadata": {},
   "source": [
    "### 6.Write a python program to calculate the square a number entered by the user."
   ]
  },
  {
   "cell_type": "code",
   "execution_count": null,
   "metadata": {},
   "outputs": [],
   "source": [
    "# Prompt the user to enter a number and assign it to a variable\n",
    "number = float(input(\"Enter a number: \"))\n",
    "\n",
    "# Calculate the square of the number\n",
    "square = number ** 2\n",
    "\n",
    "# Print the square of the number\n",
    "print(\"The square of\", number, \"is\", square)\n"
   ]
  }
 ],
 "metadata": {
  "kernelspec": {
   "display_name": "Python 3",
   "language": "python",
   "name": "python3"
  },
  "language_info": {
   "codemirror_mode": {
    "name": "ipython",
    "version": 3
   },
   "file_extension": ".py",
   "mimetype": "text/x-python",
   "name": "python",
   "nbconvert_exporter": "python",
   "pygments_lexer": "ipython3",
   "version": "3.11.4"
  }
 },
 "nbformat": 4,
 "nbformat_minor": 2
}
